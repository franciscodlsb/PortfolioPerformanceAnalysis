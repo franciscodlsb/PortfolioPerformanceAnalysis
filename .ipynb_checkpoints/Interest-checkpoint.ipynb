{
 "cells": [
  {
   "cell_type": "markdown",
   "metadata": {
    "hide_input": true
   },
   "source": [
    "# Calculate interest vs savings"
   ]
  },
  {
   "cell_type": "code",
   "execution_count": 21,
   "metadata": {
    "ExecuteTime": {
     "end_time": "2020-08-07T08:40:08.456244Z",
     "start_time": "2020-08-07T08:40:08.452248Z"
    },
    "hide_input": false
   },
   "outputs": [],
   "source": [
    "import numpy as np\n",
    "import matplotlib.pyplot as plt"
   ]
  },
  {
   "cell_type": "markdown",
   "metadata": {},
   "source": [
    "Declare variables"
   ]
  },
  {
   "cell_type": "code",
   "execution_count": 51,
   "metadata": {
    "ExecuteTime": {
     "end_time": "2020-08-07T08:53:25.873974Z",
     "start_time": "2020-08-07T08:53:25.864917Z"
    }
   },
   "outputs": [],
   "source": [
    "years = 30  # n of years\n",
    "init_capital = 10000  # initial amount in euros\n",
    "monthly_save = 700  # amount of money saved per month\n",
    "apr = 5  # annual percentage rate\n",
    "tax_interest = 19\n",
    "f = 1  # compound frecuency per year --> 1 anual, 2 for 6 months...\n",
    "tax_end = False # if taxes are charged at the end, over the benefit"
   ]
  },
  {
   "cell_type": "markdown",
   "metadata": {},
   "source": [
    "Define the function to obtain interest"
   ]
  },
  {
   "cell_type": "code",
   "execution_count": 52,
   "metadata": {
    "ExecuteTime": {
     "end_time": "2020-08-07T08:53:27.742348Z",
     "start_time": "2020-08-07T08:53:27.687376Z"
    }
   },
   "outputs": [],
   "source": [
    "def interest_calc(years=10, init_capital=10000, monthly_save=500, apr=1, f=1, tax_interest=21):\n",
    "\n",
    "    if 12 % f == 0:\n",
    "\n",
    "        apr /= 100\n",
    "        tax_interest /= 100\n",
    "\n",
    "        compound_time = np.zeros(years*12)  # When to perform compound\n",
    "        compound_time[int(12/f)-1::int(12/f)] = 1\n",
    "\n",
    "        capital = np.array([init_capital])  # Initialize capital var\n",
    "        cap_notax = np.array([init_capital]) # capital without tax for tax_end = False\n",
    "        taxes = []\n",
    "        interest = []\n",
    "\n",
    "        for i in range(years*12):\n",
    "            if compound_time[i]:\n",
    "                money_increase = capital[i]*(((1+(apr/f))**f)-1)  # apr formula\n",
    "                interest.append(money_increase)\n",
    "                money_increase_notax = money_increase + monthly_save\n",
    "                \n",
    "                if not tax_end:  # If taxes are charged periodically\n",
    "                    current_tax = money_increase*tax_interest\n",
    "                    money_increase -= current_tax\n",
    "                    taxes.append(current_tax)\n",
    "\n",
    "                money_increase += monthly_save\n",
    "\n",
    "            else:\n",
    "                money_increase = monthly_save\n",
    "                money_increase_notax = money_increase\n",
    "\n",
    "            capital = np.append(capital, capital[i] + money_increase)\n",
    "            cap_notax = np.append(cap_notax, cap_notax[i] + money_increase_notax)\n",
    "\n",
    "        saves = np.append(0, np.arange(\n",
    "            init_capital, init_capital+monthly_save*12*years, monthly_save))\n",
    "\n",
    "        if tax_end:\n",
    "            taxes = capital[-1]*tax_interest\n",
    "        else:\n",
    "            tax_vec = np.copy(compound_time)\n",
    "            int_vec = np.copy(compound_time)\n",
    "            tax_vec[tax_vec==1] = taxes\n",
    "            int_vec[int_vec==1] = interest\n",
    "            taxes = np.append(0, tax_vec)\n",
    "            interest = np.append(0, int_vec)\n",
    "        \n",
    "        return capital, saves, taxes, cap_notax, interest\n",
    "\n",
    "    else:\n",
    "        print('Error: f values should be 1, 2, 3, 4, 6 or 12')"
   ]
  },
  {
   "cell_type": "markdown",
   "metadata": {},
   "source": [
    "Execute function"
   ]
  },
  {
   "cell_type": "code",
   "execution_count": 57,
   "metadata": {
    "ExecuteTime": {
     "end_time": "2020-08-07T09:04:32.486693Z",
     "start_time": "2020-08-07T09:04:32.046891Z"
    }
   },
   "outputs": [
    {
     "name": "stdout",
     "output_type": "stream",
     "text": [
      "End Capital: 463775.26 Eur after taxes\n",
      "Saved: 261300 Eur\n",
      "Investment gains: 326143.96 Eur\n",
      "Paid: 61834.35306446049 Eur of taxes\n"
     ]
    },
    {
     "data": {
      "image/png": "[encoded data removed]",
      "text/plain": [
       "<Figure size 432x288 with 1 Axes>"
      ]
     },
     "metadata": {
      "needs_background": "light"
     },
     "output_type": "display_data"
    }
   ],
   "source": [
    "capital, saves, taxes, cap_notax, interest = interest_calc(\n",
    "    years, init_capital, monthly_save, apr, f, tax_interest)\n",
    "\n",
    "x = np.arange(0, years*12+1)\n",
    "plt.plot(x, capital)\n",
    "plt.plot(x, saves)\n",
    "plt.plot(x,np.cumsum(interest))\n",
    "\n",
    "if tax_end:\n",
    "    plt.plot(x[-1], capital[-1]-taxes, marker='o', markersize = 10)\n",
    "    plt.plot([x[-1],x[-1]], [capital[-1]-taxes, capital[-1]], 'r', linestyle='dashed', linewidth=.5)\n",
    "    print('End Capital: ' + str(np.round(capital[-1]-tot_tax,2)) + ' Eur after taxes')\n",
    "else:\n",
    "    plt.plot(x,cap_notax)\n",
    "    print('End Capital: ' + str(np.round(capital[-1]-tot_tax,2)) + ' Eur after taxes')\n",
    "\n",
    "plt.ylabel('Eur')\n",
    "plt.xlabel('Year')\n",
    "plt.xticks(np.arange(0,years*12+1, 24), np.arange(0,years+1,2))\n",
    "plt.legend(['Capital (no tax)', 'Saves', 'Interest', 'Capital (taxed)'])\n",
    "\n",
    "tot_tax = np.sum(taxes)\n",
    "print('Saved: ' + str(saves[-1]) + ' Eur')\n",
    "print('Investment gains: ' + str(np.round(cap_notax[-1]-saves[-1],2)) + ' Eur')\n",
    "print('Paid: ' + str(tot_tax) + ' Eur of taxes')"
   ]
  },
  {
   "cell_type": "code",
   "execution_count": 55,
   "metadata": {
    "ExecuteTime": {
     "end_time": "2020-08-07T09:03:28.686773Z",
     "start_time": "2020-08-07T09:03:28.677512Z"
    }
   },
   "outputs": [
    {
     "data": {
      "text/plain": [
       "array([ 0,  1,  2,  3,  4,  5,  6,  7,  8,  9, 10, 11, 12, 13, 14, 15, 16,\n",
       "       17, 18, 19, 20, 21, 22, 23, 24, 25, 26, 27, 28, 29, 30])"
      ]
     },
     "execution_count": 55,
     "metadata": {},
     "output_type": "execute_result"
    }
   ],
   "source": [
    "np.arange(0,years+1)"
   ]
  },
  {
   "cell_type": "code",
   "execution_count": null,
   "metadata": {},
   "outputs": [],
   "source": []
  }
 ],
 "metadata": {
  "kernelspec": {
   "display_name": "Python 3",
   "language": "python",
   "name": "python3"
  },
  "language_info": {
   "codemirror_mode": {
    "name": "ipython",
    "version": 3
   },
   "file_extension": ".py",
   "mimetype": "text/x-python",
   "name": "python",
   "nbconvert_exporter": "python",
   "pygments_lexer": "ipython3",
   "version": "3.7.7"
  },
  "toc": {
   "base_numbering": 1,
   "nav_menu": {},
   "number_sections": true,
   "sideBar": true,
   "skip_h1_title": false,
   "title_cell": "Table of Contents",
   "title_sidebar": "Contents",
   "toc_cell": false,
   "toc_position": {
    "height": "calc(100% - 180px)",
    "left": "10px",
    "top": "150px",
    "width": "307.2px"
   },
   "toc_section_display": true,
   "toc_window_display": false
  },
  "varInspector": {
   "cols": {
    "lenName": 16,
    "lenType": 16,
    "lenVar": 40
   },
   "kernels_config": {
    "python": {
     "delete_cmd_postfix": "",
     "delete_cmd_prefix": "del ",
     "library": "var_list.py",
     "varRefreshCmd": "print(var_dic_list())"
    },
    "r": {
     "delete_cmd_postfix": ") ",
     "delete_cmd_prefix": "rm(",
     "library": "var_list.r",
     "varRefreshCmd": "cat(var_dic_list()) "
    }
   },
   "oldHeight": 412.65,
   "position": {
    "height": "40px",
    "left": "1146px",
    "right": "20px",
    "top": "276px",
    "width": "400.4px"
   },
   "types_to_exclude": [
    "module",
    "function",
    "builtin_function_or_method",
    "instance",
    "_Feature"
   ],
   "varInspector_section_display": "none",
   "window_display": true
  }
 },
 "nbformat": 4,
 "nbformat_minor": 4
}
